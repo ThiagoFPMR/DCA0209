{
 "cells": [
  {
   "cell_type": "code",
   "execution_count": 2,
   "id": "50a2b754-ea6b-47e4-81f3-aa12ef29b041",
   "metadata": {
    "tags": []
   },
   "outputs": [],
   "source": [
    "import networkx as nx"
   ]
  },
  {
   "cell_type": "markdown",
   "id": "7353c748-14d6-41b8-a989-9e879b49adc7",
   "metadata": {
    "tags": []
   },
   "source": [
    "## 1. GitHub Social Network\n",
    "\n",
    "### Understanding the Data\n",
    "\n",
    "A large social network of GitHub developers which was collected from the public API in June 2019. Nodes are developers who have starred at least 10 repositories and edges are mutual follower relationships between them. The vertex features are extracted based on the location, repositories starred, employer and e-mail address. The task related to the graph is binary node classification - one has to predict whether the GitHub user is a web or a machine learning developer. This target feature *(here called \"ml_target\")* was derived from the job title of each user."
   ]
  },
  {
   "cell_type": "markdown",
   "id": "967bbebe-3093-49d6-bb8b-276fa420ce9d",
   "metadata": {},
   "source": [
    "### Importing Data Into a Graph"
   ]
  },
  {
   "cell_type": "code",
   "execution_count": 3,
   "id": "bbc104be-29f3-47f6-ad1a-cf74a61897bc",
   "metadata": {
    "tags": []
   },
   "outputs": [],
   "source": [
    "# Importing data\n",
    "git_df = pd.read_csv('git_web_ml/musae_git_edges.csv')\n",
    "git_node_df = pd.read_csv('git_web_ml/musae_git_target.csv')\n",
    "\n",
    "# Creating graph\n",
    "edgelist = [row[1:] for row in git_df.itertuples()]\n",
    "git_graph = nx.from_edgelist(edgelist)\n",
    "\n",
    "# Adding node attributes for assortativity analysis\n",
    "node_attributes = {row[1]:row[3] for row in git_node_df.itertuples()}   \n",
    "nx.set_node_attributes(git_graph, node_attributes, 'ml_target')"
   ]
  },
  {
   "cell_type": "markdown",
   "id": "429b5dac-c19e-4960-8e79-0c4971627b6f",
   "metadata": {},
   "source": [
    "### Analysing the Graph\n",
    "\n",
    "For the GitHub Social Network Graph, it is possible to surmise from the clustering coefficient and transitivity that it follow a star-like topological structure, where a user's followers don't usually follow one another. From the assortativity coefficient, we see that users in similar groups (in this case, machine learning developers or web developers) tend to be grouped together somewhat often. Something else of note is that the entire graph is a single connected component, meaning there's a way to reach any user from any other user in the network. Despite using its edges to represent a user following another, the graph is undirected, so that may have affected the results."
   ]
  },
  {
   "cell_type": "code",
   "execution_count": 9,
   "id": "40beaef4-67cb-4cd8-8446-d26e2f81a427",
   "metadata": {
    "scrolled": true,
    "tags": []
   },
   "outputs": [
    {
     "name": "stdout",
     "output_type": "stream",
     "text": [
      "Average Clustering Coefficient: 0.16753704480107323\n",
      "Graph Transitivity 0.012357188884259466\n",
      "Assortativity Coefficient 0.3778215022223345\n",
      "Number of Connected Components: 1\n",
      "Whether Graph is Connected: True\n"
     ]
    }
   ],
   "source": [
    "print(\"Average Clustering Coefficient:\", nx.average_clustering(git_graph))\n",
    "print(\"Graph Transitivity\", nx.transitivity(git_graph))\n",
    "print(\"Assortativity Coefficient\", nx.attribute_assortativity_coefficient(git_graph, 'ml_target'))\n",
    "print(\"Number of Connected Components:\", nx.number_connected_components(git_graph))\n",
    "print(\"Whether Graph is Connected:\", nx.is_connected(git_graph))"
   ]
  }
 ],
 "metadata": {
  "kernelspec": {
   "display_name": "Python 3 (ipykernel)",
   "language": "python",
   "name": "python3"
  },
  "language_info": {
   "codemirror_mode": {
    "name": "ipython",
    "version": 3
   },
   "file_extension": ".py",
   "mimetype": "text/x-python",
   "name": "python",
   "nbconvert_exporter": "python",
   "pygments_lexer": "ipython3",
   "version": "3.10.10"
  }
 },
 "nbformat": 4,
 "nbformat_minor": 5
}
